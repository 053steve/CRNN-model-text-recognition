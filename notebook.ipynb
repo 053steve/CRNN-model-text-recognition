{
  "cells": [
    {
      "cell_type": "markdown",
      "metadata": {
        "colab_type": "text",
        "id": "view-in-github"
      },
      "source": [
        "<a href=\"https://colab.research.google.com/github/053steve/CRNN-model-text-recognition/blob/main/notebook.ipynb\" target=\"_parent\"><img src=\"https://colab.research.google.com/assets/colab-badge.svg\" alt=\"Open In Colab\"/></a>"
      ]
    },
    {
      "cell_type": "markdown",
      "metadata": {
        "id": "JEdCFCq_k0Dq"
      },
      "source": [
        "Setup all basic stuff for colab and github integration"
      ]
    },
    {
      "cell_type": "code",
      "execution_count": 2,
      "metadata": {
        "colab": {
          "base_uri": "https://localhost:8080/"
        },
        "id": "3aW99PPdkqiw",
        "outputId": "3353540d-9405-4f5c-d1c7-9898422bfe9f"
      },
      "outputs": [],
      "source": [
        "\n",
        "COLAB = False\n",
        "GIT_REPOSITORY = \"CRNN-model-text-recognition\"\n",
        "FILE_NAME = \"notebook.ipynb\"\n",
        "UNZIP_DATASET = False\n",
        "\n",
        "if COLAB:    \n",
        "    # PARENT_DIRECTORY_PATH = \"/content\"\n",
        "    # In case you want to clone in your drive:\n",
        "    PARENT_DIRECTORY_PATH = \"/content/gdrive/My Drive/Projects\"\n",
        "    DATASET_DIRECTORY_PATH = \"/content/gdrive/My Drive/datasets/captcha\"\n",
        "    SOURCE_DATASET_ZIP_FILE = \"archive.zip\"\n",
        "    SOURCE_DATASET_ZIP_PATH = DATASET_DIRECTORY_PATH + \"/\" + SOURCE_DATASET_ZIP_FILE\n",
        "    PROJECT_PATH = PARENT_DIRECTORY_PATH + \"/\" + GIT_REPOSITORY\n",
        "    %cd \"{PARENT_DIRECTORY_PATH}\"\n",
        "    from google.colab import drive\n",
        "    drive.mount('/content/gdrive')\n",
        "else:\n",
        "    DATASET_DIRECTORY_PATH = \"/Users/Steve/datasets/captcha\"\n",
        "    SOURCE_DATASET_ZIP_FILE = \"archive.zip\"\n",
        "    SOURCE_DATASET_ZIP_PATH = DATASET_DIRECTORY_PATH + \"/\" + SOURCE_DATASET_ZIP_FILE"
      ]
    },
    {
      "cell_type": "code",
      "execution_count": 3,
      "metadata": {
        "id": "w4f-rUZa34QC"
      },
      "outputs": [],
      "source": [
        "import os\n",
        "import glob\n",
        "import numpy as np\n",
        "import pandas as pd\n",
        "import matplotlib.pyplot as plt\n",
        "\n",
        "\n",
        "import torch\n",
        "import torch.nn as nn\n",
        "import torch.nn.functional as F\n",
        "import torch.optim as optim\n",
        "from torch.utils.data import Dataset, DataLoader\n",
        "from torchvision import transforms\n",
        "from torchvision.models import resnet18\n",
        "\n",
        "import string\n",
        "from tqdm.notebook import tqdm\n",
        "import cv2\n",
        "from PIL import Image\n",
        "from sklearn.model_selection import train_test_split\n",
        "from sklearn.metrics import accuracy_score\n",
        "import multiprocessing as mp\n"
      ]
    },
    {
      "cell_type": "code",
      "execution_count": 4,
      "metadata": {
        "colab": {
          "base_uri": "https://localhost:8080/"
        },
        "id": "8rpS5LMY3_uf",
        "outputId": "d7c29c58-eef2-4a69-d457-c346c69187cb"
      },
      "outputs": [
        {
          "name": "stdout",
          "output_type": "stream",
          "text": [
            "8\n"
          ]
        }
      ],
      "source": [
        "cpu_count = mp.cpu_count()\n",
        "print(cpu_count)\n",
        "if COLAB:\n",
        "    worker_num = cpu_count\n",
        "else:\n",
        "    worker_num = 0"
      ]
    },
    {
      "cell_type": "code",
      "execution_count": 5,
      "metadata": {
        "id": "nfr067uYRbS6"
      },
      "outputs": [],
      "source": [
        "if UNZIP_DATASET:\n",
        "    print(\"unzip source in path \" + SOURCE_DATASET_ZIP_PATH)\n",
        "    !unzip '/content/gdrive/My Drive/datasets/captcha/archive.zip'\n",
        "    !unzip {SOURCE_DATASET_ZIP_PATH}"
      ]
    },
    {
      "attachments": {},
      "cell_type": "markdown",
      "metadata": {},
      "source": [
        "Split test data, train data"
      ]
    },
    {
      "cell_type": "code",
      "execution_count": 6,
      "metadata": {},
      "outputs": [
        {
          "name": "stdout",
          "output_type": "stream",
          "text": [
            "1071\n",
            "[5 7]\n",
            "596 samples\n",
            "1070\n",
            "802 268\n"
          ]
        }
      ],
      "source": [
        "data_path = 'samples/'\n",
        "all_image_list = os.listdir(data_path)\n",
        "# print(all_image_list)\n",
        "print(len(all_image_list))\n",
        "print(np.unique([len(image.split(\".\")[0]) for image in all_image_list]))\n",
        "\n",
        "for idx, image in enumerate(all_image_list):\n",
        "    if len(image.split(\".\")[0]) != 5:\n",
        "           print(idx, image)\n",
        "\n",
        "all_image_list.remove(\"samples\")\n",
        "print(len(all_image_list))\n",
        "\n",
        "image_fns_train, image_fns_test = train_test_split(all_image_list, random_state=0)\n",
        "print(len(image_fns_train), len(image_fns_test))\n"
      ]
    },
    {
      "attachments": {},
      "cell_type": "markdown",
      "metadata": {},
      "source": [
        "Define Character maps"
      ]
    },
    {
      "cell_type": "code",
      "execution_count": 7,
      "metadata": {},
      "outputs": [
        {
          "name": "stdout",
          "output_type": "stream",
          "text": [
            "19\n",
            "['2', '3', '4', '5', '6', '7', '8', 'b', 'c', 'd', 'e', 'f', 'g', 'm', 'n', 'p', 'w', 'x', 'y']\n"
          ]
        }
      ],
      "source": [
        "image_ns = [image_fn.split(\".\")[0] for image_fn in all_image_list]\n",
        "image_ns = \"\".join(image_ns)\n",
        "letters = sorted(list(set(list(image_ns))))\n",
        "\n",
        "print(len(letters))\n",
        "print(letters)"
      ]
    },
    {
      "cell_type": "code",
      "execution_count": 8,
      "metadata": {},
      "outputs": [
        {
          "name": "stdout",
          "output_type": "stream",
          "text": [
            "20\n",
            "['-', '2', '3', '4', '5', '6', '7', '8', 'b', 'c', 'd', 'e', 'f', 'g', 'm', 'n', 'p', 'w', 'x', 'y']\n",
            "{0: '-', 1: '2', 2: '3', 3: '4', 4: '5', 5: '6', 6: '7', 7: '8', 8: 'b', 9: 'c', 10: 'd', 11: 'e', 12: 'f', 13: 'g', 14: 'm', 15: 'n', 16: 'p', 17: 'w', 18: 'x', 19: 'y'}\n",
            "{'-': 0, '2': 1, '3': 2, '4': 3, '5': 4, '6': 5, '7': 6, '8': 7, 'b': 8, 'c': 9, 'd': 10, 'e': 11, 'f': 12, 'g': 13, 'm': 14, 'n': 15, 'p': 16, 'w': 17, 'x': 18, 'y': 19}\n"
          ]
        }
      ],
      "source": [
        "vocabulary = [\"-\"] + letters\n",
        "print(len(vocabulary))\n",
        "print(vocabulary)\n",
        "idx2char = {k:v for k,v in enumerate(vocabulary, start=0)}\n",
        "print(idx2char)\n",
        "char2idx = {v:k for k,v in idx2char.items()}\n",
        "print(char2idx)"
      ]
    },
    {
      "attachments": {},
      "cell_type": "markdown",
      "metadata": {},
      "source": [
        "Define data loader"
      ]
    },
    {
      "cell_type": "code",
      "execution_count": 9,
      "metadata": {},
      "outputs": [],
      "source": [
        "batch_size = 16"
      ]
    },
    {
      "cell_type": "code",
      "execution_count": 10,
      "metadata": {},
      "outputs": [],
      "source": [
        "class CaptchaDataSet(Dataset):\n",
        "    \n",
        "    def __init__(self, data_dir, image_fns):\n",
        "        self.data_dir = data_dir\n",
        "        self.image_fns = image_fns\n",
        "    \n",
        "    def __len__(self):\n",
        "        return len(self.image_fns)\n",
        "\n",
        "    def __getitem__(self, index):\n",
        "        image_fn = self.image_fns[index]\n",
        "        image_fp = os.path.join(self.data_dir, image_fn)\n",
        "        image = Image.open(image_fp).convert('RGB')\n",
        "        image = self.transform(image)\n",
        "        text = image_fn.split(\".\")[0]\n",
        "        return image, text\n",
        "\n",
        "\n",
        "    def transform(self, image):\n",
        "        \n",
        "        transform_ops = transforms.Compose([\n",
        "            transforms.ToTensor(),\n",
        "            transforms.Normalize(mean=(0.485, 0.456, 0.406), std=(0.229, 0.224, 0.225))\n",
        "        ])\n",
        "        return transform_ops(image)    \n",
        "        "
      ]
    },
    {
      "cell_type": "code",
      "execution_count": 11,
      "metadata": {},
      "outputs": [
        {
          "name": "stdout",
          "output_type": "stream",
          "text": [
            "51 17\n"
          ]
        }
      ],
      "source": [
        "trainset = CaptchaDataSet(data_path, image_fns_train) \n",
        "testset = CaptchaDataSet(data_path, image_fns_test)\n",
        "\n",
        "train_loader = DataLoader(trainset, batch_size=batch_size, num_workers=worker_num, shuffle=True)\n",
        "test_loader = DataLoader(testset, batch_size=batch_size, num_workers=worker_num, shuffle=False)\n",
        "print(len(train_loader), len(test_loader))"
      ]
    },
    {
      "cell_type": "code",
      "execution_count": 12,
      "metadata": {},
      "outputs": [
        {
          "name": "stdout",
          "output_type": "stream",
          "text": [
            "torch.Size([16, 3, 50, 200]) ('p8ngx', 'xxbm5', '6ng6w', 'yf28d', 'e667x', 'gm6nn', '3cpwb', 'ndg2b', 'mcg43', '6gnm3', 'ffpxf', 'dd5w5', 'yd38e', '4exnn', 'bwmee', 'efg72')\n"
          ]
        }
      ],
      "source": [
        "data_iter = iter(train_loader)\n",
        "image_batch, text_batch = next(data_iter)\n",
        "print(image_batch.size(), text_batch)"
      ]
    },
    {
      "attachments": {},
      "cell_type": "markdown",
      "metadata": {},
      "source": [
        "Define the model"
      ]
    },
    {
      "cell_type": "code",
      "execution_count": 13,
      "metadata": {},
      "outputs": [
        {
          "name": "stdout",
          "output_type": "stream",
          "text": [
            "20\n"
          ]
        }
      ],
      "source": [
        "num_chars = len(char2idx)\n",
        "print(num_chars)\n",
        "rnn_hidden_size = 256"
      ]
    },
    {
      "cell_type": "code",
      "execution_count": 14,
      "metadata": {},
      "outputs": [
        {
          "name": "stdout",
          "output_type": "stream",
          "text": [
            "cpu\n"
          ]
        }
      ],
      "source": [
        "device = torch.device('cuda' if torch.cuda.is_available() else 'cpu')\n",
        "print(device)"
      ]
    },
    {
      "cell_type": "code",
      "execution_count": 15,
      "metadata": {},
      "outputs": [
        {
          "name": "stderr",
          "output_type": "stream",
          "text": [
            "/Users/Steve/.pyenv/versions/3.9.1/lib/python3.9/site-packages/torchvision/models/_utils.py:208: UserWarning: The parameter 'pretrained' is deprecated since 0.13 and may be removed in the future, please use 'weights' instead.\n",
            "  warnings.warn(\n",
            "/Users/Steve/.pyenv/versions/3.9.1/lib/python3.9/site-packages/torchvision/models/_utils.py:223: UserWarning: Arguments other than a weight enum or `None` for 'weights' are deprecated since 0.13 and may be removed in the future. The current behavior is equivalent to passing `weights=ResNet18_Weights.IMAGENET1K_V1`. You can also use `weights=ResNet18_Weights.DEFAULT` to get the most up-to-date weights.\n",
            "  warnings.warn(msg)\n"
          ]
        }
      ],
      "source": [
        "resnet = resnet18(pretrained=True)\n",
        "# print(resnet)"
      ]
    },
    {
      "cell_type": "code",
      "execution_count": 16,
      "metadata": {},
      "outputs": [],
      "source": [
        "class CRNN(nn.Module):\n",
        "\n",
        "    def __init__(self, num_chars, rnn_hidden_size=256, dropout=0.1):\n",
        "        super(CRNN, self).__init__()\n",
        "        self.num_chars = num_chars\n",
        "        self.rnn_hidden_size = rnn_hidden_size\n",
        "        self.dropout = dropout\n",
        "\n",
        "        # CNN Convolutional layers\n",
        "        \n",
        "        # CNN Part 1\n",
        "        resnet_modules = list(resnet.children())[:-3]\n",
        "        self.cnn_p1 = nn.Sequential(*resnet_modules)\n",
        "\n",
        "        # CNN Part 2\n",
        "        self.cnn_p2 = nn.Sequential(\n",
        "            nn.Conv2d(256, 256, kernel_size=(3,6), stride=1, padding=1),\n",
        "            nn.BatchNorm2d(256),\n",
        "            nn.ReLU(inplace=True)\n",
        "        )\n",
        "\n",
        "        self.linear1 = nn.Linear(1024, 256)\n",
        "\n",
        "        # RNN recurrent layers\n",
        "        self.rnn1 = nn.GRU(input_size=rnn_hidden_size, \n",
        "                            hidden_size=rnn_hidden_size,\n",
        "                            bidirectional=True, \n",
        "                            batch_first=True)\n",
        "        \n",
        "        self.rnn2 = nn.GRU(input_size=rnn_hidden_size, \n",
        "                            hidden_size=rnn_hidden_size,\n",
        "                            bidirectional=True, \n",
        "                            batch_first=True)\n",
        "        \n",
        "        self.linear2 = nn.Linear(self.rnn_hidden_size*2, num_chars)\n",
        "\n",
        "    def forward(self, batch):\n",
        "\n",
        "        batch = self.cnn_p1(batch)\n",
        "        # print(batch.size()) # torch.Size([-1, 256, 4, 13])\n",
        "        \n",
        "        batch = self.cnn_p2(batch) # [batch_size, channels, height, width]\n",
        "        # print(batch.size())# torch.Size([-1, 256, 4, 10])\n",
        "        \n",
        "        batch = batch.permute(0, 3, 1, 2) # [batch_size, width, channels, height]\n",
        "        # print(batch.size()) # torch.Size([-1, 10, 256, 4])\n",
        "         \n",
        "        batch_size = batch.size(0)\n",
        "\n",
        "        T = batch.size(1)\n",
        "        \n",
        "        batch = batch.view(batch_size, T, -1) # [batch_size, T==width, num_features==channels*height]\n",
        "        # print(batch.size()) # torch.Size([-1, 10, 1024])\n",
        "        \n",
        "        batch = self.linear1(batch)\n",
        "        # print(batch.size()) # torch.Size([-1, 10, 256])\n",
        "\n",
        "        batch, hidden = self.rnn1(batch)\n",
        "\n",
        "        feature_size = batch.size(2)\n",
        "        batch = batch[:, :, :feature_size//2] + batch[:, :, feature_size//2:]\n",
        "        # print(batch.size()) # torch.Size([-1, 10, 256])\n",
        "        \n",
        "        batch, hidden = self.rnn2(batch)\n",
        "        # print(batch.size()) # torch.Size([-1, 10, 512])\n",
        "        \n",
        "        batch = self.linear2(batch)\n",
        "        # print(batch.size()) # torch.Size([-1, 10, 20])\n",
        "        \n",
        "        batch = batch.permute(1, 0, 2) # [T==10, batch_size, num_classes==num_features]\n",
        "        # print(batch.size()) # torch.Size([10, -1, 20])\n",
        "        \n",
        "        return batch\n",
        "\n"
      ]
    },
    {
      "cell_type": "code",
      "execution_count": 17,
      "metadata": {},
      "outputs": [],
      "source": [
        "def weights_init(m):\n",
        "    classname = m.__class__.__name__\n",
        "    if type(m) in [nn.Linear, nn.Conv2d, nn.Conv1d]:\n",
        "        torch.nn.init.xavier_uniform_(m.weight)\n",
        "        if m.bias is not None:\n",
        "            m.bias.data.fill_(0.01)\n",
        "    elif classname.find('BatchNorm') != -1:\n",
        "        m.weight.data.normal_(1.0, 0.02)\n",
        "        m.bias.data.fill_(0)"
      ]
    },
    {
      "cell_type": "code",
      "execution_count": 18,
      "metadata": {},
      "outputs": [
        {
          "name": "stdout",
          "output_type": "stream",
          "text": [
            "('p8ngx', 'xxbm5', '6ng6w', 'yf28d', 'e667x', 'gm6nn', '3cpwb', 'ndg2b', 'mcg43', '6gnm3', 'ffpxf', 'dd5w5', 'yd38e', '4exnn', 'bwmee', 'efg72')\n",
            "torch.Size([10, 16, 20])\n"
          ]
        }
      ],
      "source": [
        "crnn = CRNN(num_chars, rnn_hidden_size=rnn_hidden_size)\n",
        "crnn.apply(weights_init)\n",
        "crnn = crnn.to(device)\n",
        "text_batch_logits = crnn(image_batch.to(device))\n",
        "print(text_batch)\n",
        "print(text_batch_logits.shape)"
      ]
    },
    {
      "attachments": {},
      "cell_type": "markdown",
      "metadata": {},
      "source": [
        "Define loss"
      ]
    },
    {
      "cell_type": "code",
      "execution_count": 19,
      "metadata": {},
      "outputs": [],
      "source": [
        "criterion = nn.CTCLoss(blank=0)"
      ]
    },
    {
      "cell_type": "code",
      "execution_count": 20,
      "metadata": {},
      "outputs": [],
      "source": [
        "def encode_text_batch(text_batch):\n",
        "    \n",
        "    text_batch_targets_lens = [len(text) for text in text_batch]\n",
        "    text_batch_targets_lens = torch.IntTensor(text_batch_targets_lens)\n",
        "    \n",
        "    text_batch_concat = \"\".join(text_batch)\n",
        "    text_batch_targets = [char2idx[c] for c in text_batch_concat]\n",
        "    text_batch_targets = torch.IntTensor(text_batch_targets)\n",
        "    \n",
        "    return text_batch_targets, text_batch_targets_lens"
      ]
    },
    {
      "cell_type": "code",
      "execution_count": 27,
      "metadata": {},
      "outputs": [],
      "source": [
        "def compute_loss(text_batch, text_batch_logits):\n",
        "    \"\"\"\n",
        "    text_batch: list of strings of length equal to batch size\n",
        "    text_batch_logits: Tensor of size([T, batch_size, num_classes])\n",
        "    \"\"\"\n",
        "    text_batch_logps = F.log_softmax(text_batch_logits, 2) # [T, batch_size, num_classes]  \n",
        "    text_batch_logps_lens = torch.full(size=(text_batch_logps.size(1),), \n",
        "                                       fill_value=text_batch_logps.size(0), \n",
        "                                       dtype=torch.int32).to(device) # [batch_size] \n",
        "    # print(text_batch_logps.shape)\n",
        "    # print(text_batch_logps_lens) \n",
        "    text_batch_targets, text_batch_targets_lens = encode_text_batch(text_batch)\n",
        "    # print(text_batch_targets)\n",
        "    # print(text_batch_targets_lens)\n",
        "    loss = criterion(text_batch_logps, text_batch_targets, text_batch_logps_lens, text_batch_targets_lens)\n",
        "\n",
        "    return loss"
      ]
    },
    {
      "cell_type": "code",
      "execution_count": 22,
      "metadata": {},
      "outputs": [
        {
          "name": "stdout",
          "output_type": "stream",
          "text": [
            "torch.Size([10, 16, 20])\n",
            "tensor([10, 10, 10, 10, 10, 10, 10, 10, 10, 10, 10, 10, 10, 10, 10, 10],\n",
            "       dtype=torch.int32)\n",
            "tensor([16,  7, 15, 13, 18, 18, 18,  8, 14,  4,  5, 15, 13,  5, 17, 19, 12,  1,\n",
            "         7, 10, 11,  5,  5,  6, 18, 13, 14,  5, 15, 15,  2,  9, 16, 17,  8, 15,\n",
            "        10, 13,  1,  8, 14,  9, 13,  3,  2,  5, 13, 15, 14,  2, 12, 12, 16, 18,\n",
            "        12, 10, 10,  4, 17,  4, 19, 10,  2,  7, 11,  3, 11, 18, 15, 15,  8, 17,\n",
            "        14, 11, 11, 11, 12, 13,  6,  1], dtype=torch.int32)\n",
            "tensor([5, 5, 5, 5, 5, 5, 5, 5, 5, 5, 5, 5, 5, 5, 5, 5], dtype=torch.int32)\n"
          ]
        },
        {
          "data": {
            "text/plain": [
              "tensor(4.7408, grad_fn=<MeanBackward0>)"
            ]
          },
          "execution_count": 22,
          "metadata": {},
          "output_type": "execute_result"
        }
      ],
      "source": [
        "compute_loss(text_batch, text_batch_logits)"
      ]
    },
    {
      "attachments": {},
      "cell_type": "markdown",
      "metadata": {},
      "source": [
        "Train the model"
      ]
    },
    {
      "cell_type": "code",
      "execution_count": 23,
      "metadata": {},
      "outputs": [],
      "source": [
        "num_epochs = 50\n",
        "lr = 0.001\n",
        "weight_decay = 1e-3\n",
        "clip_norm = 5"
      ]
    },
    {
      "cell_type": "code",
      "execution_count": 24,
      "metadata": {},
      "outputs": [],
      "source": [
        "optimizer = optim.Adam(crnn.parameters(), lr=lr, weight_decay=weight_decay)\n",
        "lr_scheduler = optim.lr_scheduler.ReduceLROnPlateau(optimizer, verbose=True, patience=5)"
      ]
    },
    {
      "cell_type": "code",
      "execution_count": 25,
      "metadata": {},
      "outputs": [],
      "source": [
        "crnn = CRNN(num_chars, rnn_hidden_size=rnn_hidden_size)\n",
        "crnn.apply(weights_init)\n",
        "crnn = crnn.to(device)"
      ]
    },
    {
      "cell_type": "code",
      "execution_count": 28,
      "metadata": {},
      "outputs": [
        {
          "data": {
            "application/vnd.jupyter.widget-view+json": {
              "model_id": "d2407c47de094cd59afdd491c343cf44",
              "version_major": 2,
              "version_minor": 0
            },
            "text/plain": [
              "HBox(children=(HTML(value=''), FloatProgress(value=0.0, max=50.0), HTML(value='')))"
            ]
          },
          "metadata": {},
          "output_type": "display_data"
        },
        {
          "data": {
            "application/vnd.jupyter.widget-view+json": {
              "model_id": "f4d84ef2b58744c6959b0ea12a1d3c2b",
              "version_major": 2,
              "version_minor": 0
            },
            "text/plain": [
              "HBox(children=(HTML(value=''), FloatProgress(value=0.0, max=51.0), HTML(value='')))"
            ]
          },
          "metadata": {},
          "output_type": "display_data"
        },
        {
          "name": "stdout",
          "output_type": "stream",
          "text": [
            "Epoch:1    Loss:1.9331677544350718    NumUpdates:51\n"
          ]
        },
        {
          "data": {
            "application/vnd.jupyter.widget-view+json": {
              "model_id": "35f80ddf279f46fba36cae5a9c5cb32b",
              "version_major": 2,
              "version_minor": 0
            },
            "text/plain": [
              "HBox(children=(HTML(value=''), FloatProgress(value=0.0, max=51.0), HTML(value='')))"
            ]
          },
          "metadata": {},
          "output_type": "display_data"
        },
        {
          "name": "stdout",
          "output_type": "stream",
          "text": [
            "Epoch:2    Loss:1.6048630055259256    NumUpdates:51\n"
          ]
        },
        {
          "data": {
            "application/vnd.jupyter.widget-view+json": {
              "model_id": "91aa75cad67f45b68980a3085810b022",
              "version_major": 2,
              "version_minor": 0
            },
            "text/plain": [
              "HBox(children=(HTML(value=''), FloatProgress(value=0.0, max=51.0), HTML(value='')))"
            ]
          },
          "metadata": {},
          "output_type": "display_data"
        },
        {
          "name": "stdout",
          "output_type": "stream",
          "text": [
            "Epoch:3    Loss:1.3935062534668867    NumUpdates:51\n"
          ]
        },
        {
          "data": {
            "application/vnd.jupyter.widget-view+json": {
              "model_id": "cd31a07e5a1c42e1b2f26f6c7e06e41e",
              "version_major": 2,
              "version_minor": 0
            },
            "text/plain": [
              "HBox(children=(HTML(value=''), FloatProgress(value=0.0, max=51.0), HTML(value='')))"
            ]
          },
          "metadata": {},
          "output_type": "display_data"
        },
        {
          "name": "stdout",
          "output_type": "stream",
          "text": [
            "Epoch:4    Loss:1.232410098992142    NumUpdates:51\n"
          ]
        },
        {
          "data": {
            "application/vnd.jupyter.widget-view+json": {
              "model_id": "533b2b7f5aed410cbc9da9617d81d293",
              "version_major": 2,
              "version_minor": 0
            },
            "text/plain": [
              "HBox(children=(HTML(value=''), FloatProgress(value=0.0, max=51.0), HTML(value='')))"
            ]
          },
          "metadata": {},
          "output_type": "display_data"
        },
        {
          "name": "stdout",
          "output_type": "stream",
          "text": [
            "Epoch:5    Loss:1.1139751088385488    NumUpdates:51\n"
          ]
        },
        {
          "data": {
            "application/vnd.jupyter.widget-view+json": {
              "model_id": "854313a24f924a558b4a2096fb0bb2f6",
              "version_major": 2,
              "version_minor": 0
            },
            "text/plain": [
              "HBox(children=(HTML(value=''), FloatProgress(value=0.0, max=51.0), HTML(value='')))"
            ]
          },
          "metadata": {},
          "output_type": "display_data"
        },
        {
          "name": "stdout",
          "output_type": "stream",
          "text": [
            "Epoch:6    Loss:1.0780469529769    NumUpdates:51\n"
          ]
        },
        {
          "data": {
            "application/vnd.jupyter.widget-view+json": {
              "model_id": "4e455ccd85dd4c3e968bb15007924730",
              "version_major": 2,
              "version_minor": 0
            },
            "text/plain": [
              "HBox(children=(HTML(value=''), FloatProgress(value=0.0, max=51.0), HTML(value='')))"
            ]
          },
          "metadata": {},
          "output_type": "display_data"
        },
        {
          "name": "stdout",
          "output_type": "stream",
          "text": [
            "Epoch:7    Loss:0.9835890356232139    NumUpdates:51\n"
          ]
        },
        {
          "data": {
            "application/vnd.jupyter.widget-view+json": {
              "model_id": "24463d805c3b4f9bb9d64455a2f91cf2",
              "version_major": 2,
              "version_minor": 0
            },
            "text/plain": [
              "HBox(children=(HTML(value=''), FloatProgress(value=0.0, max=51.0), HTML(value='')))"
            ]
          },
          "metadata": {},
          "output_type": "display_data"
        },
        {
          "name": "stdout",
          "output_type": "stream",
          "text": [
            "Epoch:8    Loss:0.9275621760125253    NumUpdates:51\n"
          ]
        },
        {
          "data": {
            "application/vnd.jupyter.widget-view+json": {
              "model_id": "fed353ff749c4956b7a82422e6782618",
              "version_major": 2,
              "version_minor": 0
            },
            "text/plain": [
              "HBox(children=(HTML(value=''), FloatProgress(value=0.0, max=51.0), HTML(value='')))"
            ]
          },
          "metadata": {},
          "output_type": "display_data"
        },
        {
          "name": "stdout",
          "output_type": "stream",
          "text": [
            "Epoch:9    Loss:0.8898993905852822    NumUpdates:51\n"
          ]
        },
        {
          "data": {
            "application/vnd.jupyter.widget-view+json": {
              "model_id": "cb5b2329597e4a6c88bdafd69ea5e30a",
              "version_major": 2,
              "version_minor": 0
            },
            "text/plain": [
              "HBox(children=(HTML(value=''), FloatProgress(value=0.0, max=51.0), HTML(value='')))"
            ]
          },
          "metadata": {},
          "output_type": "display_data"
        },
        {
          "name": "stdout",
          "output_type": "stream",
          "text": [
            "Epoch:10    Loss:0.8935297517215505    NumUpdates:51\n"
          ]
        },
        {
          "data": {
            "application/vnd.jupyter.widget-view+json": {
              "model_id": "16ebee9d4f16477fb925dd5f308ba84f",
              "version_major": 2,
              "version_minor": 0
            },
            "text/plain": [
              "HBox(children=(HTML(value=''), FloatProgress(value=0.0, max=51.0), HTML(value='')))"
            ]
          },
          "metadata": {},
          "output_type": "display_data"
        },
        {
          "name": "stdout",
          "output_type": "stream",
          "text": [
            "Epoch:11    Loss:0.8697704953305861    NumUpdates:51\n"
          ]
        },
        {
          "data": {
            "application/vnd.jupyter.widget-view+json": {
              "model_id": "93d329e3ab2b457f81b3de86e4723530",
              "version_major": 2,
              "version_minor": 0
            },
            "text/plain": [
              "HBox(children=(HTML(value=''), FloatProgress(value=0.0, max=51.0), HTML(value='')))"
            ]
          },
          "metadata": {},
          "output_type": "display_data"
        },
        {
          "name": "stdout",
          "output_type": "stream",
          "text": [
            "Epoch:12    Loss:0.8383447586321363    NumUpdates:51\n"
          ]
        },
        {
          "data": {
            "application/vnd.jupyter.widget-view+json": {
              "model_id": "901e2979291f45d7b33b1be33ccdc99c",
              "version_major": 2,
              "version_minor": 0
            },
            "text/plain": [
              "HBox(children=(HTML(value=''), FloatProgress(value=0.0, max=51.0), HTML(value='')))"
            ]
          },
          "metadata": {},
          "output_type": "display_data"
        },
        {
          "name": "stdout",
          "output_type": "stream",
          "text": [
            "Epoch:13    Loss:0.8468207600069981    NumUpdates:51\n"
          ]
        },
        {
          "data": {
            "application/vnd.jupyter.widget-view+json": {
              "model_id": "b982924721a84cd89e94390ee01b36af",
              "version_major": 2,
              "version_minor": 0
            },
            "text/plain": [
              "HBox(children=(HTML(value=''), FloatProgress(value=0.0, max=51.0), HTML(value='')))"
            ]
          },
          "metadata": {},
          "output_type": "display_data"
        },
        {
          "name": "stdout",
          "output_type": "stream",
          "text": [
            "Epoch:14    Loss:0.8168631196022034    NumUpdates:51\n"
          ]
        },
        {
          "data": {
            "application/vnd.jupyter.widget-view+json": {
              "model_id": "3b18564782a14b6f88c6bb39c9e19e62",
              "version_major": 2,
              "version_minor": 0
            },
            "text/plain": [
              "HBox(children=(HTML(value=''), FloatProgress(value=0.0, max=51.0), HTML(value='')))"
            ]
          },
          "metadata": {},
          "output_type": "display_data"
        },
        {
          "name": "stdout",
          "output_type": "stream",
          "text": [
            "Epoch:15    Loss:0.7945543258797889    NumUpdates:51\n"
          ]
        },
        {
          "data": {
            "application/vnd.jupyter.widget-view+json": {
              "model_id": "025c3516df9f44eeb469a322e652f409",
              "version_major": 2,
              "version_minor": 0
            },
            "text/plain": [
              "HBox(children=(HTML(value=''), FloatProgress(value=0.0, max=51.0), HTML(value='')))"
            ]
          },
          "metadata": {},
          "output_type": "display_data"
        },
        {
          "name": "stdout",
          "output_type": "stream",
          "text": [
            "Epoch:16    Loss:0.7975541271415412    NumUpdates:51\n"
          ]
        },
        {
          "data": {
            "application/vnd.jupyter.widget-view+json": {
              "model_id": "dfb5530bc7e94ee7a01af1047e7f1ac5",
              "version_major": 2,
              "version_minor": 0
            },
            "text/plain": [
              "HBox(children=(HTML(value=''), FloatProgress(value=0.0, max=51.0), HTML(value='')))"
            ]
          },
          "metadata": {},
          "output_type": "display_data"
        },
        {
          "name": "stdout",
          "output_type": "stream",
          "text": [
            "Epoch:17    Loss:0.7669974705752205    NumUpdates:51\n"
          ]
        },
        {
          "data": {
            "application/vnd.jupyter.widget-view+json": {
              "model_id": "9da0909d69b04b68952cdc330d69ad37",
              "version_major": 2,
              "version_minor": 0
            },
            "text/plain": [
              "HBox(children=(HTML(value=''), FloatProgress(value=0.0, max=51.0), HTML(value='')))"
            ]
          },
          "metadata": {},
          "output_type": "display_data"
        },
        {
          "name": "stdout",
          "output_type": "stream",
          "text": [
            "Epoch:18    Loss:0.7386416711059272    NumUpdates:51\n"
          ]
        },
        {
          "data": {
            "application/vnd.jupyter.widget-view+json": {
              "model_id": "ca175c6dbb3246d7aec2fdd89f299925",
              "version_major": 2,
              "version_minor": 0
            },
            "text/plain": [
              "HBox(children=(HTML(value=''), FloatProgress(value=0.0, max=51.0), HTML(value='')))"
            ]
          },
          "metadata": {},
          "output_type": "display_data"
        },
        {
          "name": "stdout",
          "output_type": "stream",
          "text": [
            "Epoch:19    Loss:0.7495000526016834    NumUpdates:51\n"
          ]
        },
        {
          "data": {
            "application/vnd.jupyter.widget-view+json": {
              "model_id": "8236257995ce49d8a31a3f968e07cc3f",
              "version_major": 2,
              "version_minor": 0
            },
            "text/plain": [
              "HBox(children=(HTML(value=''), FloatProgress(value=0.0, max=51.0), HTML(value='')))"
            ]
          },
          "metadata": {},
          "output_type": "display_data"
        },
        {
          "name": "stdout",
          "output_type": "stream",
          "text": [
            "Epoch:20    Loss:0.7350567661079705    NumUpdates:51\n"
          ]
        },
        {
          "data": {
            "application/vnd.jupyter.widget-view+json": {
              "model_id": "9feb5a2afa9b408cad3868eae8791465",
              "version_major": 2,
              "version_minor": 0
            },
            "text/plain": [
              "HBox(children=(HTML(value=''), FloatProgress(value=0.0, max=51.0), HTML(value='')))"
            ]
          },
          "metadata": {},
          "output_type": "display_data"
        },
        {
          "name": "stdout",
          "output_type": "stream",
          "text": [
            "Epoch:21    Loss:0.8333807201946483    NumUpdates:51\n"
          ]
        },
        {
          "data": {
            "application/vnd.jupyter.widget-view+json": {
              "model_id": "1658e90e85e04ac7bf706c29ae5cc9ab",
              "version_major": 2,
              "version_minor": 0
            },
            "text/plain": [
              "HBox(children=(HTML(value=''), FloatProgress(value=0.0, max=51.0), HTML(value='')))"
            ]
          },
          "metadata": {},
          "output_type": "display_data"
        },
        {
          "name": "stdout",
          "output_type": "stream",
          "text": [
            "Epoch:22    Loss:0.7324206875819786    NumUpdates:51\n"
          ]
        },
        {
          "data": {
            "application/vnd.jupyter.widget-view+json": {
              "model_id": "824e77e4157d44718a26e75ab0dfc356",
              "version_major": 2,
              "version_minor": 0
            },
            "text/plain": [
              "HBox(children=(HTML(value=''), FloatProgress(value=0.0, max=51.0), HTML(value='')))"
            ]
          },
          "metadata": {},
          "output_type": "display_data"
        },
        {
          "name": "stdout",
          "output_type": "stream",
          "text": [
            "Epoch:23    Loss:0.6795770105193643    NumUpdates:51\n"
          ]
        },
        {
          "data": {
            "application/vnd.jupyter.widget-view+json": {
              "model_id": "9aef5115ab97478fbd85906a647bf40c",
              "version_major": 2,
              "version_minor": 0
            },
            "text/plain": [
              "HBox(children=(HTML(value=''), FloatProgress(value=0.0, max=51.0), HTML(value='')))"
            ]
          },
          "metadata": {},
          "output_type": "display_data"
        },
        {
          "name": "stdout",
          "output_type": "stream",
          "text": [
            "Epoch:24    Loss:0.6716100702098772    NumUpdates:51\n"
          ]
        },
        {
          "data": {
            "application/vnd.jupyter.widget-view+json": {
              "model_id": "c3009dbd6ed04d668b36bc04e0c6992e",
              "version_major": 2,
              "version_minor": 0
            },
            "text/plain": [
              "HBox(children=(HTML(value=''), FloatProgress(value=0.0, max=51.0), HTML(value='')))"
            ]
          },
          "metadata": {},
          "output_type": "display_data"
        },
        {
          "name": "stdout",
          "output_type": "stream",
          "text": [
            "Epoch:25    Loss:0.6726571683790169    NumUpdates:51\n"
          ]
        },
        {
          "data": {
            "application/vnd.jupyter.widget-view+json": {
              "model_id": "21959c239cda42919ffd90189c9a0735",
              "version_major": 2,
              "version_minor": 0
            },
            "text/plain": [
              "HBox(children=(HTML(value=''), FloatProgress(value=0.0, max=51.0), HTML(value='')))"
            ]
          },
          "metadata": {},
          "output_type": "display_data"
        },
        {
          "name": "stdout",
          "output_type": "stream",
          "text": [
            "Epoch:26    Loss:0.6688760706022674    NumUpdates:51\n"
          ]
        },
        {
          "data": {
            "application/vnd.jupyter.widget-view+json": {
              "model_id": "38f893b2b86d4145865f2d749ef0db19",
              "version_major": 2,
              "version_minor": 0
            },
            "text/plain": [
              "HBox(children=(HTML(value=''), FloatProgress(value=0.0, max=51.0), HTML(value='')))"
            ]
          },
          "metadata": {},
          "output_type": "display_data"
        },
        {
          "name": "stdout",
          "output_type": "stream",
          "text": [
            "Epoch:27    Loss:0.7004609517022675    NumUpdates:51\n"
          ]
        },
        {
          "data": {
            "application/vnd.jupyter.widget-view+json": {
              "model_id": "8a1396a1eb1147929fcf05c46a0fbf01",
              "version_major": 2,
              "version_minor": 0
            },
            "text/plain": [
              "HBox(children=(HTML(value=''), FloatProgress(value=0.0, max=51.0), HTML(value='')))"
            ]
          },
          "metadata": {},
          "output_type": "display_data"
        },
        {
          "name": "stdout",
          "output_type": "stream",
          "text": [
            "Epoch:28    Loss:0.8516860989963307    NumUpdates:51\n"
          ]
        },
        {
          "data": {
            "application/vnd.jupyter.widget-view+json": {
              "model_id": "c39ce9fb7bd940b397741b9274aed736",
              "version_major": 2,
              "version_minor": 0
            },
            "text/plain": [
              "HBox(children=(HTML(value=''), FloatProgress(value=0.0, max=51.0), HTML(value='')))"
            ]
          },
          "metadata": {},
          "output_type": "display_data"
        },
        {
          "name": "stdout",
          "output_type": "stream",
          "text": [
            "Epoch:29    Loss:0.7551413926423765    NumUpdates:51\n"
          ]
        },
        {
          "data": {
            "application/vnd.jupyter.widget-view+json": {
              "model_id": "1f6e4def15fe43c6a5f5362c4f9dc14b",
              "version_major": 2,
              "version_minor": 0
            },
            "text/plain": [
              "HBox(children=(HTML(value=''), FloatProgress(value=0.0, max=51.0), HTML(value='')))"
            ]
          },
          "metadata": {},
          "output_type": "display_data"
        },
        {
          "name": "stdout",
          "output_type": "stream",
          "text": [
            "Epoch:30    Loss:0.6502579964843451    NumUpdates:51\n"
          ]
        },
        {
          "data": {
            "application/vnd.jupyter.widget-view+json": {
              "model_id": "e773d0c99fa54e90917bfe61a24a7c86",
              "version_major": 2,
              "version_minor": 0
            },
            "text/plain": [
              "HBox(children=(HTML(value=''), FloatProgress(value=0.0, max=51.0), HTML(value='')))"
            ]
          },
          "metadata": {},
          "output_type": "display_data"
        },
        {
          "name": "stdout",
          "output_type": "stream",
          "text": [
            "Epoch:31    Loss:0.6585529037550384    NumUpdates:51\n"
          ]
        },
        {
          "data": {
            "application/vnd.jupyter.widget-view+json": {
              "model_id": "b88dac0463b8447993b6d47e09a9f2e9",
              "version_major": 2,
              "version_minor": 0
            },
            "text/plain": [
              "HBox(children=(HTML(value=''), FloatProgress(value=0.0, max=51.0), HTML(value='')))"
            ]
          },
          "metadata": {},
          "output_type": "display_data"
        },
        {
          "name": "stdout",
          "output_type": "stream",
          "text": [
            "Epoch:32    Loss:0.6659620041940727    NumUpdates:51\n"
          ]
        },
        {
          "data": {
            "application/vnd.jupyter.widget-view+json": {
              "model_id": "7965c8616fe54209a60e74abf529d593",
              "version_major": 2,
              "version_minor": 0
            },
            "text/plain": [
              "HBox(children=(HTML(value=''), FloatProgress(value=0.0, max=51.0), HTML(value='')))"
            ]
          },
          "metadata": {},
          "output_type": "display_data"
        },
        {
          "name": "stdout",
          "output_type": "stream",
          "text": [
            "Epoch:33    Loss:0.6584008265944088    NumUpdates:51\n"
          ]
        },
        {
          "data": {
            "application/vnd.jupyter.widget-view+json": {
              "model_id": "bcff161d64c04696a2153e3b5de41e0c",
              "version_major": 2,
              "version_minor": 0
            },
            "text/plain": [
              "HBox(children=(HTML(value=''), FloatProgress(value=0.0, max=51.0), HTML(value='')))"
            ]
          },
          "metadata": {},
          "output_type": "display_data"
        },
        {
          "name": "stdout",
          "output_type": "stream",
          "text": [
            "Epoch:34    Loss:0.652858880220675    NumUpdates:51\n"
          ]
        },
        {
          "data": {
            "application/vnd.jupyter.widget-view+json": {
              "model_id": "2d0291cba4fb4d23b1c2b5dd4f7542fe",
              "version_major": 2,
              "version_minor": 0
            },
            "text/plain": [
              "HBox(children=(HTML(value=''), FloatProgress(value=0.0, max=51.0), HTML(value='')))"
            ]
          },
          "metadata": {},
          "output_type": "display_data"
        },
        {
          "name": "stdout",
          "output_type": "stream",
          "text": [
            "Epoch:35    Loss:0.6224063962113624    NumUpdates:51\n"
          ]
        },
        {
          "data": {
            "application/vnd.jupyter.widget-view+json": {
              "model_id": "0b4038ca6fa94278aec96fe36fb6d59e",
              "version_major": 2,
              "version_minor": 0
            },
            "text/plain": [
              "HBox(children=(HTML(value=''), FloatProgress(value=0.0, max=51.0), HTML(value='')))"
            ]
          },
          "metadata": {},
          "output_type": "display_data"
        },
        {
          "name": "stdout",
          "output_type": "stream",
          "text": [
            "Epoch:36    Loss:0.6324277660425972    NumUpdates:51\n"
          ]
        },
        {
          "data": {
            "application/vnd.jupyter.widget-view+json": {
              "model_id": "f4c712f4b88b4362980d8ac02b450ff1",
              "version_major": 2,
              "version_minor": 0
            },
            "text/plain": [
              "HBox(children=(HTML(value=''), FloatProgress(value=0.0, max=51.0), HTML(value='')))"
            ]
          },
          "metadata": {},
          "output_type": "display_data"
        },
        {
          "name": "stdout",
          "output_type": "stream",
          "text": [
            "Epoch:37    Loss:0.6116871132570154    NumUpdates:51\n"
          ]
        },
        {
          "data": {
            "application/vnd.jupyter.widget-view+json": {
              "model_id": "ecd06263e1c043d2b30d2baf6f27852a",
              "version_major": 2,
              "version_minor": 0
            },
            "text/plain": [
              "HBox(children=(HTML(value=''), FloatProgress(value=0.0, max=51.0), HTML(value='')))"
            ]
          },
          "metadata": {},
          "output_type": "display_data"
        },
        {
          "name": "stdout",
          "output_type": "stream",
          "text": [
            "Epoch:38    Loss:0.6065563664716833    NumUpdates:51\n"
          ]
        },
        {
          "data": {
            "application/vnd.jupyter.widget-view+json": {
              "model_id": "ea496eb59b684325ac05033790b0f74b",
              "version_major": 2,
              "version_minor": 0
            },
            "text/plain": [
              "HBox(children=(HTML(value=''), FloatProgress(value=0.0, max=51.0), HTML(value='')))"
            ]
          },
          "metadata": {},
          "output_type": "display_data"
        },
        {
          "name": "stdout",
          "output_type": "stream",
          "text": [
            "Epoch:39    Loss:0.6245148754587361    NumUpdates:51\n"
          ]
        },
        {
          "data": {
            "application/vnd.jupyter.widget-view+json": {
              "model_id": "2e672e8c58e04e428705da0ee131931b",
              "version_major": 2,
              "version_minor": 0
            },
            "text/plain": [
              "HBox(children=(HTML(value=''), FloatProgress(value=0.0, max=51.0), HTML(value='')))"
            ]
          },
          "metadata": {},
          "output_type": "display_data"
        },
        {
          "name": "stdout",
          "output_type": "stream",
          "text": [
            "Epoch:40    Loss:0.6348024034032634    NumUpdates:51\n"
          ]
        },
        {
          "data": {
            "application/vnd.jupyter.widget-view+json": {
              "model_id": "d159c991d2c94393aac65d621491a52f",
              "version_major": 2,
              "version_minor": 0
            },
            "text/plain": [
              "HBox(children=(HTML(value=''), FloatProgress(value=0.0, max=51.0), HTML(value='')))"
            ]
          },
          "metadata": {},
          "output_type": "display_data"
        },
        {
          "name": "stdout",
          "output_type": "stream",
          "text": [
            "Epoch:41    Loss:0.7306185691964393    NumUpdates:51\n"
          ]
        },
        {
          "data": {
            "application/vnd.jupyter.widget-view+json": {
              "model_id": "865c743a73344bcf8e09c4269fe0439c",
              "version_major": 2,
              "version_minor": 0
            },
            "text/plain": [
              "HBox(children=(HTML(value=''), FloatProgress(value=0.0, max=51.0), HTML(value='')))"
            ]
          },
          "metadata": {},
          "output_type": "display_data"
        },
        {
          "name": "stdout",
          "output_type": "stream",
          "text": [
            "Epoch:42    Loss:0.7620369558240853    NumUpdates:51\n"
          ]
        },
        {
          "data": {
            "application/vnd.jupyter.widget-view+json": {
              "model_id": "909eb824ee23453cb627ddc1f440a6d8",
              "version_major": 2,
              "version_minor": 0
            },
            "text/plain": [
              "HBox(children=(HTML(value=''), FloatProgress(value=0.0, max=51.0), HTML(value='')))"
            ]
          },
          "metadata": {},
          "output_type": "display_data"
        },
        {
          "name": "stdout",
          "output_type": "stream",
          "text": [
            "Epoch:43    Loss:0.6474443206600115    NumUpdates:51\n"
          ]
        },
        {
          "data": {
            "application/vnd.jupyter.widget-view+json": {
              "model_id": "0b0f46a3d02c41c985a6ab4f75b3f4a2",
              "version_major": 2,
              "version_minor": 0
            },
            "text/plain": [
              "HBox(children=(HTML(value=''), FloatProgress(value=0.0, max=51.0), HTML(value='')))"
            ]
          },
          "metadata": {},
          "output_type": "display_data"
        },
        {
          "name": "stdout",
          "output_type": "stream",
          "text": [
            "Epoch:44    Loss:0.6073746611090267    NumUpdates:51\n",
            "Epoch 00045: reducing learning rate of group 0 to 1.0000e-04.\n"
          ]
        },
        {
          "data": {
            "application/vnd.jupyter.widget-view+json": {
              "model_id": "d69144e09b884502a9af3c0460c8b2e8",
              "version_major": 2,
              "version_minor": 0
            },
            "text/plain": [
              "HBox(children=(HTML(value=''), FloatProgress(value=0.0, max=51.0), HTML(value='')))"
            ]
          },
          "metadata": {},
          "output_type": "display_data"
        },
        {
          "name": "stdout",
          "output_type": "stream",
          "text": [
            "Epoch:45    Loss:0.5570400193625805    NumUpdates:51\n"
          ]
        },
        {
          "data": {
            "application/vnd.jupyter.widget-view+json": {
              "model_id": "8625a873a10a442e8b82fa4c6adcb6f3",
              "version_major": 2,
              "version_minor": 0
            },
            "text/plain": [
              "HBox(children=(HTML(value=''), FloatProgress(value=0.0, max=51.0), HTML(value='')))"
            ]
          },
          "metadata": {},
          "output_type": "display_data"
        },
        {
          "name": "stdout",
          "output_type": "stream",
          "text": [
            "Epoch:46    Loss:0.5353442477244957    NumUpdates:51\n"
          ]
        },
        {
          "data": {
            "application/vnd.jupyter.widget-view+json": {
              "model_id": "0de90c0df0714db19f85aeb167b7f420",
              "version_major": 2,
              "version_minor": 0
            },
            "text/plain": [
              "HBox(children=(HTML(value=''), FloatProgress(value=0.0, max=51.0), HTML(value='')))"
            ]
          },
          "metadata": {},
          "output_type": "display_data"
        },
        {
          "name": "stdout",
          "output_type": "stream",
          "text": [
            "Epoch:47    Loss:0.5275638214513367    NumUpdates:51\n"
          ]
        },
        {
          "data": {
            "application/vnd.jupyter.widget-view+json": {
              "model_id": "f9b5ff6bcd8b45a88ac055048255fe29",
              "version_major": 2,
              "version_minor": 0
            },
            "text/plain": [
              "HBox(children=(HTML(value=''), FloatProgress(value=0.0, max=51.0), HTML(value='')))"
            ]
          },
          "metadata": {},
          "output_type": "display_data"
        },
        {
          "name": "stdout",
          "output_type": "stream",
          "text": [
            "Epoch:48    Loss:0.5252419143330818    NumUpdates:51\n"
          ]
        },
        {
          "data": {
            "application/vnd.jupyter.widget-view+json": {
              "model_id": "2bbb51c5609c4f639ba2594a5781d5a1",
              "version_major": 2,
              "version_minor": 0
            },
            "text/plain": [
              "HBox(children=(HTML(value=''), FloatProgress(value=0.0, max=51.0), HTML(value='')))"
            ]
          },
          "metadata": {},
          "output_type": "display_data"
        },
        {
          "name": "stdout",
          "output_type": "stream",
          "text": [
            "Epoch:49    Loss:0.5213763339846742    NumUpdates:51\n"
          ]
        },
        {
          "data": {
            "application/vnd.jupyter.widget-view+json": {
              "model_id": "266d461ab8964e1da92bd5bfcbd65c6d",
              "version_major": 2,
              "version_minor": 0
            },
            "text/plain": [
              "HBox(children=(HTML(value=''), FloatProgress(value=0.0, max=51.0), HTML(value='')))"
            ]
          },
          "metadata": {},
          "output_type": "display_data"
        },
        {
          "name": "stdout",
          "output_type": "stream",
          "text": [
            "Epoch:50    Loss:0.5188004269319422    NumUpdates:51\n",
            "\n"
          ]
        }
      ],
      "source": [
        "epoch_losses = []\n",
        "iteration_losses = []\n",
        "num_updates_epochs = []\n",
        "for epoch in tqdm(range(1, num_epochs+1)):\n",
        "    epoch_loss_list = [] \n",
        "    num_updates_epoch = 0\n",
        "    for image_batch, text_batch in tqdm(train_loader, leave=False):\n",
        "        optimizer.zero_grad()\n",
        "        text_batch_logits = crnn(image_batch.to(device))\n",
        "        loss = compute_loss(text_batch, text_batch_logits)\n",
        "        iteration_loss = loss.item()\n",
        "\n",
        "        if np.isnan(iteration_loss) or np.isinf(iteration_loss):\n",
        "            continue\n",
        "          \n",
        "        num_updates_epoch += 1\n",
        "        iteration_losses.append(iteration_loss)\n",
        "        epoch_loss_list.append(iteration_loss)\n",
        "        loss.backward()\n",
        "        nn.utils.clip_grad_norm_(crnn.parameters(), clip_norm)\n",
        "        optimizer.step()\n",
        "\n",
        "    epoch_loss = np.mean(epoch_loss_list)\n",
        "    print(\"Epoch:{}    Loss:{}    NumUpdates:{}\".format(epoch, epoch_loss, num_updates_epoch))\n",
        "    epoch_losses.append(epoch_loss)\n",
        "    num_updates_epochs.append(num_updates_epoch)\n",
        "    lr_scheduler.step(epoch_loss)"
      ]
    },
    {
      "cell_type": "code",
      "execution_count": 29,
      "metadata": {},
      "outputs": [
        {
          "data": {
            "image/png": "[encoded data removed]",
            "text/plain": [
              "<Figure size 1000x500 with 2 Axes>"
            ]
          },
          "metadata": {},
          "output_type": "display_data"
        }
      ],
      "source": [
        "fig, (ax1, ax2) = plt.subplots(1, 2, figsize=(10, 5))\n",
        "\n",
        "ax1.plot(epoch_losses)\n",
        "ax1.set_xlabel(\"Epochs\")\n",
        "ax1.set_ylabel(\"Loss\")\n",
        "\n",
        "ax2.plot(iteration_losses)\n",
        "ax2.set_xlabel(\"Iterations\")\n",
        "ax2.set_ylabel(\"Loss\")\n",
        "\n",
        "plt.show()"
      ]
    },
    {
      "attachments": {},
      "cell_type": "markdown",
      "metadata": {},
      "source": [
        "Make prediction"
      ]
    },
    {
      "cell_type": "code",
      "execution_count": null,
      "metadata": {},
      "outputs": [],
      "source": [
        "def decode_predictions(text_batch_logits):\n",
        "\n",
        "    text_batch_tokens = F.softmax(text_batch_logits, 2).argmax(2) # [T, batch_size]\n",
        "    text_batch_tokens = text_batch_tokens.numpy().T # [batch_size, T]\n",
        "\n",
        "    text_batch_tokens_new = []\n",
        "    for text_tokens in text_batch_tokens:\n",
        "        text = [idx2char[idx] for idx in text_tokens]\n",
        "        text = \"\".join(text)\n",
        "        text_batch_tokens_new.append(text)\n",
        "\n",
        "    return text_batch_tokens_new"
      ]
    },
    {
      "cell_type": "code",
      "execution_count": null,
      "metadata": {},
      "outputs": [],
      "source": [
        "results_train = pd.DataFrame(columns=['actual', 'prediction'])\n",
        "train_loader = DataLoader(trainset, batch_size=16, num_workers=1, shuffle=False)\n",
        "with torch.no_grad():\n",
        "    for image_batch, text_batch in tqdm(train_loader, leave=True):\n",
        "        text_batch_logits = crnn(image_batch.to(device)) # [T, batch_size, num_classes==num_features]\n",
        "        text_batch_pred = decode_predictions(text_batch_logits.cpu())\n",
        "        #print(text_batch, text_batch_pred)\n",
        "        df = pd.DataFrame(columns=['actual', 'prediction'])\n",
        "        df['actual'] = text_batch\n",
        "        df['prediction'] = text_batch_pred\n",
        "        results_train = pd.concat([results_train, df])\n",
        "results_train = results_train.reset_index(drop=True)"
      ]
    },
    {
      "cell_type": "code",
      "execution_count": null,
      "metadata": {},
      "outputs": [],
      "source": [
        "results_test = pd.DataFrame(columns=['actual', 'prediction'])\n",
        "test_loader = DataLoader(testset, batch_size=16, num_workers=1, shuffle=False)\n",
        "with torch.no_grad():\n",
        "    for image_batch, text_batch in tqdm(test_loader, leave=True):\n",
        "        text_batch_logits = crnn(image_batch.to(device)) # [T, batch_size, num_classes==num_features]\n",
        "        text_batch_pred = decode_predictions(text_batch_logits.cpu())\n",
        "        #print(text_batch, text_batch_pred)\n",
        "        df = pd.DataFrame(columns=['actual', 'prediction'])\n",
        "        df['actual'] = text_batch\n",
        "        df['prediction'] = text_batch_pred\n",
        "        results_test = pd.concat([results_test, df])\n",
        "results_test = results_test.reset_index(drop=True)"
      ]
    },
    {
      "cell_type": "code",
      "execution_count": null,
      "metadata": {},
      "outputs": [],
      "source": [
        "print(results_train.shape)\n",
        "results_train.head()"
      ]
    },
    {
      "cell_type": "code",
      "execution_count": null,
      "metadata": {},
      "outputs": [],
      "source": [
        "print(results_test.shape)\n",
        "results_test.head()"
      ]
    },
    {
      "cell_type": "code",
      "execution_count": null,
      "metadata": {},
      "outputs": [],
      "source": [
        "def remove_duplicates(text):\n",
        "    if len(text) > 1:\n",
        "        letters = [text[0]] + [letter for idx, letter in enumerate(text[1:], start=1) if text[idx] != text[idx-1]]\n",
        "    elif len(text) == 1:\n",
        "        letters = [text[0]]\n",
        "    else:\n",
        "        return \"\"\n",
        "    return \"\".join(letters)\n",
        "\n",
        "def correct_prediction(word):\n",
        "    parts = word.split(\"-\")\n",
        "    parts = [remove_duplicates(part) for part in parts]\n",
        "    corrected_word = \"\".join(parts)\n",
        "    return corrected_word"
      ]
    },
    {
      "cell_type": "code",
      "execution_count": null,
      "metadata": {},
      "outputs": [],
      "source": [
        "results_train['prediction_corrected'] = results_train['prediction'].apply(correct_prediction)\n",
        "results_train.head()"
      ]
    },
    {
      "cell_type": "code",
      "execution_count": null,
      "metadata": {},
      "outputs": [],
      "source": [
        "results_test['prediction_corrected'] = results_test['prediction'].apply(correct_prediction)\n",
        "results_test.head()"
      ]
    }
  ],
  "metadata": {
    "colab": {
      "include_colab_link": true,
      "provenance": []
    },
    "kernelspec": {
      "display_name": "Python 3",
      "language": "python",
      "name": "python3"
    },
    "language_info": {
      "codemirror_mode": {
        "name": "ipython",
        "version": 3
      },
      "file_extension": ".py",
      "mimetype": "text/x-python",
      "name": "python",
      "nbconvert_exporter": "python",
      "pygments_lexer": "ipython3",
      "version": "3.9.1"
    },
    "vscode": {
      "interpreter": {
        "hash": "b50bca31c1add29d2d8e6ca0a6296a1f392f0bea0e14b41709fc7229a164b1ce"
      }
    }
  },
  "nbformat": 4,
  "nbformat_minor": 0
}

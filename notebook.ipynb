{
  "cells": [
    {
      "cell_type": "markdown",
      "metadata": {
        "colab_type": "text",
        "id": "view-in-github"
      },
      "source": [
        "<a href=\"https://colab.research.google.com/github/053steve/CRNN-model-text-recognition/blob/main/notebook.ipynb\" target=\"_parent\"><img src=\"https://colab.research.google.com/assets/colab-badge.svg\" alt=\"Open In Colab\"/></a>"
      ]
    },
    {
      "cell_type": "markdown",
      "metadata": {
        "id": "JEdCFCq_k0Dq"
      },
      "source": [
        "Setup all basic stuff for colab and github integration"
      ]
    },
    {
      "cell_type": "code",
      "execution_count": 1,
      "metadata": {
        "colab": {
          "base_uri": "https://localhost:8080/"
        },
        "id": "3aW99PPdkqiw",
        "outputId": "3353540d-9405-4f5c-d1c7-9898422bfe9f"
      },
      "outputs": [
        {
          "name": "stdout",
          "output_type": "stream",
          "text": [
            "/content/gdrive/My Drive/Projects\n",
            "Drive already mounted at /content/gdrive; to attempt to forcibly remount, call drive.mount(\"/content/gdrive\", force_remount=True).\n"
          ]
        }
      ],
      "source": [
        "\n",
        "COLAB = False\n",
        "GIT_REPOSITORY = \"CRNN-model-text-recognition\"\n",
        "FILE_NAME = \"notebook.ipynb\"\n",
        "\n",
        "if COLAB:    \n",
        "    # PARENT_DIRECTORY_PATH = \"/content\"\n",
        "    # In case you want to clone in your drive:\n",
        "    PARENT_DIRECTORY_PATH = \"/content/gdrive/My Drive/Projects\"\n",
        "    DATASET_DIRECTORY_PATH = \"/content/gdrive/My Drive/datasets/captcha\"\n",
        "    SOURCE_DATASET_ZIP_FILE = \"archive.zip\"\n",
        "    SOURCE_DATASET_ZIP_PATH = DATASET_DIRECTORY_PATH + \"/\" + SOURCE_DATASET_ZIP_FILE\n",
        "    PROJECT_PATH = PARENT_DIRECTORY_PATH + \"/\" + GIT_REPOSITORY\n",
        "    %cd \"{PARENT_DIRECTORY_PATH}\"\n",
        "    from google.colab import drive\n",
        "    drive.mount('/content/gdrive')\n",
        "else:\n",
        "    DATASET_DIRECTORY_PATH = \"/content/gdrive/My Drive/datasets/captcha\"\n",
        "    SOURCE_DATASET_ZIP_FILE = \"archive.zip\"\n",
        "    SOURCE_DATASET_ZIP_PATH = DATASET_DIRECTORY_PATH + \"/\" + SOURCE_DATASET_ZIP_FILE"
      ]
    },
    {
      "cell_type": "code",
      "execution_count": 6,
      "metadata": {
        "id": "w4f-rUZa34QC"
      },
      "outputs": [],
      "source": [
        "import os\n",
        "import glob\n",
        "import numpy as np\n",
        "import pandas as pd\n",
        "import matplotlib.pyplot as plt\n",
        "\n",
        "\n",
        "import torch\n",
        "import torch.nn as nn\n",
        "import torch.nn.functional as F\n",
        "import torch.optim as optim\n",
        "from torch.utils.data import Dataset, DataLoader\n",
        "from torchvision import transforms\n",
        "from torchvision.models import resnet18\n",
        "\n",
        "import string\n",
        "from tqdm.notebook import tqdm\n",
        "import cv2\n",
        "from PIL import Image\n",
        "from sklearn.model_selection import train_test_split\n",
        "from sklearn.metrics import accuracy_score\n",
        "import multiprocessing as mp\n"
      ]
    },
    {
      "cell_type": "code",
      "execution_count": 9,
      "metadata": {
        "colab": {
          "base_uri": "https://localhost:8080/"
        },
        "id": "8rpS5LMY3_uf",
        "outputId": "d7c29c58-eef2-4a69-d457-c346c69187cb"
      },
      "outputs": [
        {
          "name": "stdout",
          "output_type": "stream",
          "text": [
            "8\n"
          ]
        }
      ],
      "source": [
        "cpu_count = mp.cpu_count()\n",
        "print(cpu_count)"
      ]
    },
    {
      "cell_type": "code",
      "execution_count": null,
      "metadata": {
        "id": "nfr067uYRbS6"
      },
      "outputs": [],
      "source": [
        "print(\"unzip source in path \" + SOURCE_DATASET_ZIP_PATH)\n",
        "!unzip '/content/gdrive/My Drive/datasets/captcha/archive.zip'\n"
      ]
    }
  ],
  "metadata": {
    "colab": {
      "include_colab_link": true,
      "provenance": []
    },
    "kernelspec": {
      "display_name": "Python 3",
      "language": "python",
      "name": "python3"
    },
    "language_info": {
      "codemirror_mode": {
        "name": "ipython",
        "version": 3
      },
      "file_extension": ".py",
      "mimetype": "text/x-python",
      "name": "python",
      "nbconvert_exporter": "python",
      "pygments_lexer": "ipython3",
      "version": "3.9.1"
    },
    "vscode": {
      "interpreter": {
        "hash": "b50bca31c1add29d2d8e6ca0a6296a1f392f0bea0e14b41709fc7229a164b1ce"
      }
    }
  },
  "nbformat": 4,
  "nbformat_minor": 0
}

{
  "nbformat": 4,
  "nbformat_minor": 0,
  "metadata": {
    "colab": {
      "provenance": [],
      "authorship_tag": "ABX9TyPTrwTRLiXTMh0/ZgBrmqc9",
      "include_colab_link": true
    },
    "kernelspec": {
      "name": "python3",
      "display_name": "Python 3"
    },
    "language_info": {
      "name": "python"
    }
  },
  "cells": [
    {
      "cell_type": "markdown",
      "metadata": {
        "id": "view-in-github",
        "colab_type": "text"
      },
      "source": [
        "<a href=\"https://colab.research.google.com/github/053steve/CRNN-model-text-recognition/blob/main/init_setup.ipynb\" target=\"_parent\"><img src=\"https://colab.research.google.com/assets/colab-badge.svg\" alt=\"Open In Colab\"/></a>"
      ]
    },
    {
      "cell_type": "markdown",
      "source": [
        "Setup all basic stuff for colab and github integration"
      ],
      "metadata": {
        "id": "JEdCFCq_k0Dq"
      }
    },
    {
      "cell_type": "code",
      "execution_count": null,
      "metadata": {
        "id": "3aW99PPdkqiw",
        "colab": {
          "base_uri": "https://localhost:8080/"
        },
        "outputId": "37b458a6-cb81-4d61-b39b-57cf61df3660"
      },
      "outputs": [
        {
          "output_type": "stream",
          "name": "stdout",
          "text": [
            "/content/gdrive/My Drive/Projects\n",
            "Drive already mounted at /content/gdrive; to attempt to forcibly remount, call drive.mount(\"/content/gdrive\", force_remount=True).\n"
          ]
        }
      ],
      "source": [
        "\n",
        "COLAB = True\n",
        "KAGGLE = False\n",
        "DOWNLOAD_DATA = True\n",
        "SAVE_TO_GITHUB = False\n",
        "GIT_REPOSITORY = \"CRNN-model-text-recognition\"\n",
        "FILE_NAME = \"notebook.ipynb\"\n",
        " \n",
        "if COLAB:\n",
        "    # PARENT_DIRECTORY_PATH = \"/content\"\n",
        "    # In case you want to clone in your drive:\n",
        "    PARENT_DIRECTORY_PATH = \"/content/gdrive/My Drive/Projects\"\n",
        "    PROJECT_PATH = PARENT_DIRECTORY_PATH + \"/\" + GIT_REPOSITORY\n",
        "    %cd \"{PARENT_DIRECTORY_PATH}\"\n",
        "    \n",
        "    from google.colab import drive\n",
        "    drive.mount('/content/gdrive')"
      ]
    },
    {
      "cell_type": "code",
      "source": [
        "if COLAB:\n",
        "    import json\n",
        " \n",
        "    with open(\"/content/gdrive/My Drive/Git/git.json\", \"r\") as f:\n",
        "        parsed_json = json.load(f)\n",
        " \n",
        "    GIT_USER_NAME = parsed_json[\"GIT_USER_NAME\"]\n",
        "    GIT_TOKEN = parsed_json[\"GIT_TOKEN\"]\n",
        "    GIT_USER_EMAIL = parsed_json[\"GIT_USER_EMAIL\"]\n",
        " \n",
        "    GIT_PATH = (\n",
        "        f\"https://{GIT_TOKEN}@github.com/{GIT_USER_NAME}/{GIT_REPOSITORY}.git\"\n",
        "    )\n",
        " \n",
        "    %cd \"{PARENT_DIRECTORY_PATH}\"  \n",
        " \n",
        "    !git clone \"{GIT_PATH}\"  # Clone the github repository\n",
        " \n",
        "    %cd \"{PROJECT_PATH}\""
      ],
      "metadata": {
        "colab": {
          "base_uri": "https://localhost:8080/"
        },
        "id": "J07ZUPzdFbGT",
        "outputId": "8288f2ac-2582-4d8a-f7b0-d5dcfa27f3f3"
      },
      "execution_count": null,
      "outputs": [
        {
          "output_type": "stream",
          "name": "stdout",
          "text": [
            "/content/gdrive/My Drive/Projects\n",
            "Cloning into 'CRNN-model-text-recognition'...\n",
            "remote: Enumerating objects: 3, done.\u001b[K\n",
            "remote: Counting objects: 100% (3/3), done.\u001b[K\n",
            "remote: Compressing objects: 100% (2/2), done.\u001b[K\n",
            "remote: Total 3 (delta 0), reused 0 (delta 0), pack-reused 0\u001b[K\n",
            "Unpacking objects: 100% (3/3), 1.17 KiB | 37.00 KiB/s, done.\n",
            "/content/gdrive/My Drive/Projects/CRNN-model-text-recognition\n"
          ]
        }
      ]
    }
  ]
}
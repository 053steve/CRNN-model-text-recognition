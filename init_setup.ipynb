{
  "cells": [
    {
      "cell_type": "markdown",
      "metadata": {
        "colab_type": "text",
        "id": "view-in-github"
      },
      "source": [
        "<a href=\"https://colab.research.google.com/github/053steve/CRNN-model-text-recognition/blob/main/init_setup.ipynb\" target=\"_parent\"><img src=\"https://colab.research.google.com/assets/colab-badge.svg\" alt=\"Open In Colab\"/></a>"
      ]
    },
    {
      "cell_type": "markdown",
      "metadata": {
        "id": "JEdCFCq_k0Dq"
      },
      "source": [
        "Setup all basic stuff for colab and github integration"
      ]
    },
    {
      "cell_type": "code",
      "execution_count": null,
      "metadata": {
        "colab": {
          "base_uri": "https://localhost:8080/"
        },
        "id": "3aW99PPdkqiw",
        "outputId": "37b458a6-cb81-4d61-b39b-57cf61df3660"
      },
      "outputs": [],
      "source": [
        "\n",
        "COLAB = True\n",
        "KAGGLE = False\n",
        "DOWNLOAD_DATA = True\n",
        "SAVE_TO_GITHUB = False\n",
        "GIT_REPOSITORY = \"CRNN-model-text-recognition\"\n",
        "FILE_NAME = \"notebook.ipynb\"\n",
        " \n",
        "if COLAB:\n",
        "    # PARENT_DIRECTORY_PATH = \"/content\"\n",
        "    # In case you want to clone in your drive:\n",
        "    PARENT_DIRECTORY_PATH = \"/content/gdrive/My Drive/Projects\"\n",
        "    PROJECT_PATH = PARENT_DIRECTORY_PATH + \"/\" + GIT_REPOSITORY\n",
        "    %cd \"{PARENT_DIRECTORY_PATH}\"\n",
        "    \n",
        "    from google.colab import drive\n",
        "    drive.mount('/content/gdrive')"
      ]
    }
  ],
  "metadata": {
    "colab": {
      "authorship_tag": "ABX9TyPTrwTRLiXTMh0/ZgBrmqc9",
      "include_colab_link": true,
      "provenance": []
    },
    "kernelspec": {
      "display_name": "Python 3",
      "language": "python",
      "name": "python3"
    },
    "language_info": {
      "codemirror_mode": {
        "name": "ipython",
        "version": 3
      },
      "file_extension": ".py",
      "mimetype": "text/x-python",
      "name": "python",
      "nbconvert_exporter": "python",
      "pygments_lexer": "ipython3",
      "version": "3.9.1"
    },
    "vscode": {
      "interpreter": {
        "hash": "b50bca31c1add29d2d8e6ca0a6296a1f392f0bea0e14b41709fc7229a164b1ce"
      }
    }
  },
  "nbformat": 4,
  "nbformat_minor": 0
}
